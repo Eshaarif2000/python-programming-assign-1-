{
 "cells": [
  {
   "cell_type": "code",
   "execution_count": 1,
   "metadata": {},
   "outputs": [
    {
     "name": "stdout",
     "output_type": "stream",
     "text": [
      "Twinkle, twinkle, little star,\n",
      "      how i wonder what you are!\n",
      "            up above the world so high,\n",
      "            like a diamond in the sky.\n",
      "Twinkle, twinkle, little star,\n",
      "      how i wonder what you are \n"
     ]
    }
   ],
   "source": [
    "a = \"Twinkle, twinkle, little star,\"\n",
    "b = \"      how i wonder what you are!\"\n",
    "c = \"            up above the world so high,\"\n",
    "d = \"            like a diamond in the sky.\"\n",
    "e = \"Twinkle, twinkle, little star,\"\n",
    "f = \"      how i wonder what you are \"\n",
    "print(a)\n",
    "print(b)\n",
    "print(c)\n",
    "print(d)\n",
    "print(e)\n",
    "print(f)"
   ]
  },
  {
   "cell_type": "code",
   "execution_count": 2,
   "metadata": {},
   "outputs": [
    {
     "name": "stdout",
     "output_type": "stream",
     "text": [
      "python 3.7\n"
     ]
    }
   ],
   "source": [
    "print(\"python 3.7\")"
   ]
  },
  {
   "cell_type": "code",
   "execution_count": 3,
   "metadata": {},
   "outputs": [
    {
     "name": "stdout",
     "output_type": "stream",
     "text": [
      "05/11/19 7:16\n"
     ]
    }
   ],
   "source": [
    "print(\"05/11/19 7:16\")"
   ]
  },
  {
   "cell_type": "code",
   "execution_count": 5,
   "metadata": {},
   "outputs": [
    {
     "name": "stdout",
     "output_type": "stream",
     "text": [
      "Arif Esha\n"
     ]
    }
   ],
   "source": [
    "first_name = \"Esha\"\n",
    "last_name = \"Arif\" \n",
    "full_name = last_name + \" \" + first_name \n",
    "print(full_name)"
   ]
  },
  {
   "cell_type": "code",
   "execution_count": 6,
   "metadata": {},
   "outputs": [
    {
     "name": "stdout",
     "output_type": "stream",
     "text": [
      "66\n"
     ]
    }
   ],
   "source": [
    "a = 43\n",
    "b = 23\n",
    "c = a + b \n",
    "print(c)"
   ]
  },
  {
   "cell_type": "code",
   "execution_count": 8,
   "metadata": {},
   "outputs": [
    {
     "name": "stdout",
     "output_type": "stream",
     "text": [
      "314.0\n"
     ]
    }
   ],
   "source": [
    "pi = 3.14\n",
    "radius = 10 \n",
    "piradius = 3.14 * 10 * 10\n",
    "print(piradius)"
   ]
  },
  {
   "cell_type": "code",
   "execution_count": null,
   "metadata": {},
   "outputs": [],
   "source": []
  }
 ],
 "metadata": {
  "kernelspec": {
   "display_name": "Python 3",
   "language": "python",
   "name": "python3"
  },
  "language_info": {
   "codemirror_mode": {
    "name": "ipython",
    "version": 3
   },
   "file_extension": ".py",
   "mimetype": "text/x-python",
   "name": "python",
   "nbconvert_exporter": "python",
   "pygments_lexer": "ipython3",
   "version": "3.7.4"
  }
 },
 "nbformat": 4,
 "nbformat_minor": 2
}
